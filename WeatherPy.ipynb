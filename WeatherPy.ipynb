{
 "cells": [
  {
   "cell_type": "markdown",
   "metadata": {},
   "source": [
    "\n",
    "\n",
    "# WeatherPy\n",
    "---------------------------"
   ]
  },
  {
   "cell_type": "markdown",
   "metadata": {},
   "source": [
    "### Analysis\n",
    "- trend 1\n",
    "- trend \n",
    "- trend\n",
    "---------------------------"
   ]
  },
  {
   "cell_type": "code",
   "execution_count": 39,
   "metadata": {},
   "outputs": [],
   "source": [
    "# Dependencies\n",
    "import matplotlib.pyplot as plt\n",
    "import numpy as np\n",
    "import seaborn\n",
    "import requests\n",
    "import json\n",
    "import random\n",
    "from citipy import citipy\n",
    "from config import weather_api_key"
   ]
  },
  {
   "cell_type": "markdown",
   "metadata": {},
   "source": [
    "## Generate Cities List"
   ]
  },
  {
   "cell_type": "code",
   "execution_count": 56,
   "metadata": {},
   "outputs": [
    {
     "data": {
      "text/plain": [
       "600"
      ]
     },
     "execution_count": 56,
     "metadata": {},
     "output_type": "execute_result"
    }
   ],
   "source": [
    "# city_list = []\n",
    "# for i in range(100):\n",
    "#     random_latitude = random.randrange(-90,90)\n",
    "#     random_longitude = random.randrange(-180,180)\n",
    "#     city = citipy.nearest_city(random_latitude, random_longitude).city_name\n",
    "#     city_list.append(city)\n",
    "# city_list\n",
    "\n",
    "city_list = [citipy.nearest_city(random.randrange(-90,90), random.randrange(-180,180)).city_name for i in range(600)]\n",
    "# print([i for i in city_list], end=\" \")\n",
    "len(city_list)"
   ]
  },
  {
   "cell_type": "markdown",
   "metadata": {},
   "source": [
    "## Perform API Calls"
   ]
  },
  {
   "cell_type": "code",
   "execution_count": 16,
   "metadata": {},
   "outputs": [
    {
     "name": "stdout",
     "output_type": "stream",
     "text": [
      "The weather API responded with: {'cod': 429, 'message': 'Your account is temporary blocked due to exceeding of requests limitation of your subscription type. Please choose the proper subscription http://openweathermap.org/price'}.\n"
     ]
    }
   ],
   "source": [
    "def get\n",
    "    # Save config information\n",
    "    url = \"http://api.openweathermap.org/data/2.5/weather?\"\n",
    "    city = \"london\"\n",
    "\n",
    "    # Build query URL\n",
    "    query_url = url + \"appid=\" + weather_api_key + \"&units=\" + 'Imperial'+ \"&q=\" + city\n",
    "\n",
    "    # Get weather data\n",
    "    weather_response = requests.get(query_url)\n",
    "    weather_json = weather_response.json()\n",
    "\n",
    "    # Get the temperature from the response\n",
    "    print(f\"The weather API responded with: {weather_json}.\")"
   ]
  },
  {
   "cell_type": "code",
   "execution_count": 8,
   "metadata": {},
   "outputs": [
    {
     "name": "stdout",
     "output_type": "stream",
     "text": [
      "Help on package citipy:\n",
      "\n",
      "NAME\n",
      "    citipy\n",
      "\n",
      "PACKAGE CONTENTS\n",
      "    citipy\n",
      "\n",
      "FILE\n",
      "    /Users/alyss/anaconda3/envs/PythonData/lib/python3.6/site-packages/citipy/__init__.py\n",
      "\n",
      "\n"
     ]
    }
   ],
   "source": [
    "# Build a series of scatter plots to showcase the following relationships:\n",
    "\n",
    "# * Temperature (F) vs. Latitude\n",
    "# * Humidity (%) vs. Latitude\n",
    "# * Cloudiness (%) vs. Latitude\n",
    "# * Wind Speed (mph) vs. Latitude"
   ]
  },
  {
   "cell_type": "code",
   "execution_count": null,
   "metadata": {},
   "outputs": [],
   "source": []
  }
 ],
 "metadata": {
  "kernelspec": {
   "display_name": "Python [conda env:PythonData]",
   "language": "python",
   "name": "conda-env-PythonData-py"
  },
  "language_info": {
   "codemirror_mode": {
    "name": "ipython",
    "version": 3
   },
   "file_extension": ".py",
   "mimetype": "text/x-python",
   "name": "python",
   "nbconvert_exporter": "python",
   "pygments_lexer": "ipython3",
   "version": "3.6.4"
  }
 },
 "nbformat": 4,
 "nbformat_minor": 2
}
